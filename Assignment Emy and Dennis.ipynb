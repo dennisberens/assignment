{
 "cells": [
  {
   "cell_type": "markdown",
   "metadata": {},
   "source": [
    "| Name | SNR |\n",
    "| --- | --- |\n",
    "| Emy Meurs | u1250696 |\n",
    "| Dennis Berens | u1251106 |\n",
    "\n",
    "# Title\n",
    "**Subtitle**\n",
    "\n"
   ]
  },
  {
   "cell_type": "code",
   "execution_count": 280,
   "metadata": {},
   "outputs": [],
   "source": [
    "#load extensions\n",
    "\n",
    "import pandas as pd\n",
    "import plotly.plotly as py\n",
    "from plotly.graph_objs import *\n",
    "import plotly.figure_factory as ff\n",
    "import plotly.tools as tls\n",
    "import numpy as np\n",
    "from IPython.display import display\n",
    "from IPython.display import Image"
   ]
  },
  {
   "cell_type": "markdown",
   "metadata": {},
   "source": [
    "## Introduction\n",
    "\n",
    "[text here]"
   ]
  },
  {
   "cell_type": "code",
   "execution_count": 281,
   "metadata": {},
   "outputs": [],
   "source": [
    "#load dataset\n",
    "\n",
    "hpi_i = pd.read_csv(\"hpi.csv\", delimiter=\";\", skiprows=1) #Housing price index\n",
    "hpi_2 = hpi_i.drop(hpi_i.columns[[0, 1, 3]], axis=1) #Remove excess columns\n",
    "hpi = hpi_2.transpose() #Switch row/column such that years are rows\n",
    "cpi_i = pd.read_csv(\"cpi.csv\", delimiter=\",\") #Consumer Price Index\n",
    "cpi = cpi_i\n",
    "sp_i = pd.read_csv(\"sp.csv\", delimiter=\";\", skiprows=3) # Selling price houses\n",
    "sp = sp_i.transpose()\n",
    "rc_i = pd.read_csv(\"rc.csv\") #Rental cost increase\n",
    "rc = rc_i.transpose()\n"
   ]
  },
  {
   "cell_type": "code",
   "execution_count": 282,
   "metadata": {},
   "outputs": [],
   "source": [
    "## Remove unneccessary rows and columns\n",
    "hpid = hpi.drop([2, 3, 4, 7, 8, 9, 10, 11, 13, 14, 16, 21], axis=1)\n",
    "hpid2 = hpid.drop(hpid.index[1:77])\n",
    "hpid3 = hpid2.drop(['2014 2nd quarter', '2014 3rd quarter', '2014 4th quarter', '2015 2nd quarter', '2015 3rd quarter', '2015 4th quarter', '2016 2nd quarter', '2016 3rd quarter'], axis=0)\n",
    "hpid4 = hpid3.rename({'2014 1st quarter': '2014', '2015 1st quarter': '2015', '2016 1st quarter': '2016'})\n",
    "hpid5 = hpid4.rename({'Regions': 'Years', '0': 'HP-NL', 'Noord-Nederland (LD)': 'HP-NN'})\n",
    "\n",
    "cpid = cpi.drop(['CPI afgeleid', 'Jaarmutatie CPI', 'Jaarmutatie CPI afgeleid'], axis=1)\n",
    "cpid2 = cpid.drop(cpid.index[1:13])\n",
    "cpid3 = cpid2.drop(cpid2.index[2:14])\n",
    "cpid4 = cpid3.drop(cpid3.index[3:16])\n",
    "\n",
    "spd = sp.drop([1, 4, 5, 6, 7, 8, 10, 11, 13, 15, 16, 17, 19, 20, 21, 22, 23, 24, 25, 28, 29, 30], axis=1)\n",
    "spd2 = spd.drop(spd.index[1:12])\n",
    "\n",
    "rcd = rc.drop([2, 3, 4, 7, 8, 9, 10, 11, 13, 14, 16], axis=1)\n",
    "rcd2 = rcd.drop(rcd.index[1])\n",
    "\n",
    "hp_rf = hpid5 # House prices reformatted\n",
    "cp_rf = cpid4 # Consumper prices reformatted\n",
    "sp_rf = spd2 # Selling prices reformatted\n",
    "rp_rf = rcd2 # Renting prices reformatted\n",
    "\n"
   ]
  },
  {
   "cell_type": "code",
   "execution_count": 288,
   "metadata": {},
   "outputs": [
    {
     "data": {
      "text/html": [
       "<div>\n",
       "<style>\n",
       "    .dataframe thead tr:only-child th {\n",
       "        text-align: right;\n",
       "    }\n",
       "\n",
       "    .dataframe thead th {\n",
       "        text-align: left;\n",
       "    }\n",
       "\n",
       "    .dataframe tbody tr th {\n",
       "        vertical-align: top;\n",
       "    }\n",
       "</style>\n",
       "<table border=\"1\" class=\"dataframe\">\n",
       "  <thead>\n",
       "    <tr style=\"text-align: right;\">\n",
       "      <th></th>\n",
       "      <th>HP-NL</th>\n",
       "      <th>HP-NN</th>\n",
       "      <th>HP-GR</th>\n",
       "      <th>HP-FR</th>\n",
       "      <th>HP-NH</th>\n",
       "      <th>HP-NB</th>\n",
       "      <th>HP-AM</th>\n",
       "      <th>HP-DH</th>\n",
       "      <th>HP-RD</th>\n",
       "      <th>HP-UT</th>\n",
       "    </tr>\n",
       "  </thead>\n",
       "  <tbody>\n",
       "    <tr>\n",
       "      <th>2014</th>\n",
       "      <td>85.2</td>\n",
       "      <td>83.6</td>\n",
       "      <td>84.3</td>\n",
       "      <td>82</td>\n",
       "      <td>86.7</td>\n",
       "      <td>82.9</td>\n",
       "      <td>90.6</td>\n",
       "      <td>86.3</td>\n",
       "      <td>89.1</td>\n",
       "      <td>88.7</td>\n",
       "    </tr>\n",
       "    <tr>\n",
       "      <th>2015</th>\n",
       "      <td>87.3</td>\n",
       "      <td>85</td>\n",
       "      <td>86.6</td>\n",
       "      <td>83</td>\n",
       "      <td>90.3</td>\n",
       "      <td>84.6</td>\n",
       "      <td>99.6</td>\n",
       "      <td>88.5</td>\n",
       "      <td>92.6</td>\n",
       "      <td>94.8</td>\n",
       "    </tr>\n",
       "    <tr>\n",
       "      <th>2016</th>\n",
       "      <td>90.8</td>\n",
       "      <td>86.8</td>\n",
       "      <td>88.9</td>\n",
       "      <td>85.5</td>\n",
       "      <td>96.7</td>\n",
       "      <td>87.6</td>\n",
       "      <td>110.2</td>\n",
       "      <td>94.7</td>\n",
       "      <td>97.3</td>\n",
       "      <td>102.1</td>\n",
       "    </tr>\n",
       "  </tbody>\n",
       "</table>\n",
       "</div>"
      ],
      "text/plain": [
       "     HP-NL HP-NN HP-GR HP-FR HP-NH HP-NB  HP-AM HP-DH HP-RD  HP-UT\n",
       "2014  85.2  83.6  84.3    82  86.7  82.9   90.6  86.3  89.1   88.7\n",
       "2015  87.3    85  86.6    83  90.3  84.6   99.6  88.5  92.6   94.8\n",
       "2016  90.8  86.8  88.9  85.5  96.7  87.6  110.2  94.7  97.3  102.1"
      ]
     },
     "execution_count": 288,
     "metadata": {},
     "output_type": "execute_result"
    }
   ],
   "source": [
    "df1 = pd.DataFrame(hp_rf)\n",
    "df1m = df1.columns = ['HP-NL', 'HP-NN', 'HP-GR', 'HP-FR', 'HP-NH', 'HP-NB', 'HP-AM', 'HP-DH', 'HP-RD', 'HP-UT']\n",
    "df1m1 = df1.drop(['Years'])\n",
    "df1m1"
   ]
  },
  {
   "cell_type": "code",
   "execution_count": 293,
   "metadata": {},
   "outputs": [
    {
     "data": {
      "text/html": [
       "<div>\n",
       "<style>\n",
       "    .dataframe thead tr:only-child th {\n",
       "        text-align: right;\n",
       "    }\n",
       "\n",
       "    .dataframe thead th {\n",
       "        text-align: left;\n",
       "    }\n",
       "\n",
       "    .dataframe tbody tr th {\n",
       "        vertical-align: top;\n",
       "    }\n",
       "</style>\n",
       "<table border=\"1\" class=\"dataframe\">\n",
       "  <thead>\n",
       "    <tr style=\"text-align: right;\">\n",
       "      <th></th>\n",
       "      <th>CPI</th>\n",
       "    </tr>\n",
       "  </thead>\n",
       "  <tbody>\n",
       "    <tr>\n",
       "      <th>2014</th>\n",
       "      <td>99,40</td>\n",
       "    </tr>\n",
       "    <tr>\n",
       "      <th>2015</th>\n",
       "      <td>100,00</td>\n",
       "    </tr>\n",
       "    <tr>\n",
       "      <th>2016</th>\n",
       "      <td>100,32</td>\n",
       "    </tr>\n",
       "  </tbody>\n",
       "</table>\n",
       "</div>"
      ],
      "text/plain": [
       "         CPI\n",
       "2014   99,40\n",
       "2015  100,00\n",
       "2016  100,32"
      ]
     },
     "execution_count": 293,
     "metadata": {},
     "output_type": "execute_result"
    }
   ],
   "source": [
    "df2 = pd.DataFrame(cp_rf)\n",
    "df2.index = ['2014', '2015', '2016']\n",
    "df2m = df2.drop(['Perioden'], axis=1)\n",
    "df2m #2"
   ]
  },
  {
   "cell_type": "code",
   "execution_count": 294,
   "metadata": {},
   "outputs": [],
   "source": [
    "df12 = pd.concat([df1m1, df2m])"
   ]
  },
  {
   "cell_type": "code",
   "execution_count": 295,
   "metadata": {},
   "outputs": [
    {
     "data": {
      "text/html": [
       "<div>\n",
       "<style>\n",
       "    .dataframe thead tr:only-child th {\n",
       "        text-align: right;\n",
       "    }\n",
       "\n",
       "    .dataframe thead th {\n",
       "        text-align: left;\n",
       "    }\n",
       "\n",
       "    .dataframe tbody tr th {\n",
       "        vertical-align: top;\n",
       "    }\n",
       "</style>\n",
       "<table border=\"1\" class=\"dataframe\">\n",
       "  <thead>\n",
       "    <tr style=\"text-align: right;\">\n",
       "      <th></th>\n",
       "      <th>CPI</th>\n",
       "      <th>HP-AM</th>\n",
       "      <th>HP-DH</th>\n",
       "      <th>HP-FR</th>\n",
       "      <th>HP-GR</th>\n",
       "      <th>HP-NB</th>\n",
       "      <th>HP-NH</th>\n",
       "      <th>HP-NL</th>\n",
       "      <th>HP-NN</th>\n",
       "      <th>HP-RD</th>\n",
       "      <th>HP-UT</th>\n",
       "    </tr>\n",
       "  </thead>\n",
       "  <tbody>\n",
       "    <tr>\n",
       "      <th>2014</th>\n",
       "      <td>NaN</td>\n",
       "      <td>90.6</td>\n",
       "      <td>86.3</td>\n",
       "      <td>82</td>\n",
       "      <td>84.3</td>\n",
       "      <td>82.9</td>\n",
       "      <td>86.7</td>\n",
       "      <td>85.2</td>\n",
       "      <td>83.6</td>\n",
       "      <td>89.1</td>\n",
       "      <td>88.7</td>\n",
       "    </tr>\n",
       "    <tr>\n",
       "      <th>2015</th>\n",
       "      <td>NaN</td>\n",
       "      <td>99.6</td>\n",
       "      <td>88.5</td>\n",
       "      <td>83</td>\n",
       "      <td>86.6</td>\n",
       "      <td>84.6</td>\n",
       "      <td>90.3</td>\n",
       "      <td>87.3</td>\n",
       "      <td>85</td>\n",
       "      <td>92.6</td>\n",
       "      <td>94.8</td>\n",
       "    </tr>\n",
       "    <tr>\n",
       "      <th>2016</th>\n",
       "      <td>NaN</td>\n",
       "      <td>110.2</td>\n",
       "      <td>94.7</td>\n",
       "      <td>85.5</td>\n",
       "      <td>88.9</td>\n",
       "      <td>87.6</td>\n",
       "      <td>96.7</td>\n",
       "      <td>90.8</td>\n",
       "      <td>86.8</td>\n",
       "      <td>97.3</td>\n",
       "      <td>102.1</td>\n",
       "    </tr>\n",
       "    <tr>\n",
       "      <th>2014</th>\n",
       "      <td>99,40</td>\n",
       "      <td>NaN</td>\n",
       "      <td>NaN</td>\n",
       "      <td>NaN</td>\n",
       "      <td>NaN</td>\n",
       "      <td>NaN</td>\n",
       "      <td>NaN</td>\n",
       "      <td>NaN</td>\n",
       "      <td>NaN</td>\n",
       "      <td>NaN</td>\n",
       "      <td>NaN</td>\n",
       "    </tr>\n",
       "    <tr>\n",
       "      <th>2015</th>\n",
       "      <td>100,00</td>\n",
       "      <td>NaN</td>\n",
       "      <td>NaN</td>\n",
       "      <td>NaN</td>\n",
       "      <td>NaN</td>\n",
       "      <td>NaN</td>\n",
       "      <td>NaN</td>\n",
       "      <td>NaN</td>\n",
       "      <td>NaN</td>\n",
       "      <td>NaN</td>\n",
       "      <td>NaN</td>\n",
       "    </tr>\n",
       "    <tr>\n",
       "      <th>2016</th>\n",
       "      <td>100,32</td>\n",
       "      <td>NaN</td>\n",
       "      <td>NaN</td>\n",
       "      <td>NaN</td>\n",
       "      <td>NaN</td>\n",
       "      <td>NaN</td>\n",
       "      <td>NaN</td>\n",
       "      <td>NaN</td>\n",
       "      <td>NaN</td>\n",
       "      <td>NaN</td>\n",
       "      <td>NaN</td>\n",
       "    </tr>\n",
       "  </tbody>\n",
       "</table>\n",
       "</div>"
      ],
      "text/plain": [
       "         CPI  HP-AM HP-DH HP-FR HP-GR HP-NB HP-NH HP-NL HP-NN HP-RD  HP-UT\n",
       "2014     NaN   90.6  86.3    82  84.3  82.9  86.7  85.2  83.6  89.1   88.7\n",
       "2015     NaN   99.6  88.5    83  86.6  84.6  90.3  87.3    85  92.6   94.8\n",
       "2016     NaN  110.2  94.7  85.5  88.9  87.6  96.7  90.8  86.8  97.3  102.1\n",
       "2014   99,40    NaN   NaN   NaN   NaN   NaN   NaN   NaN   NaN   NaN    NaN\n",
       "2015  100,00    NaN   NaN   NaN   NaN   NaN   NaN   NaN   NaN   NaN    NaN\n",
       "2016  100,32    NaN   NaN   NaN   NaN   NaN   NaN   NaN   NaN   NaN    NaN"
      ]
     },
     "execution_count": 295,
     "metadata": {},
     "output_type": "execute_result"
    }
   ],
   "source": [
    "df12"
   ]
  },
  {
   "cell_type": "code",
   "execution_count": null,
   "metadata": {
    "collapsed": true
   },
   "outputs": [],
   "source": [
    "df3 = pd.DataFrame(sp_rf)\n"
   ]
  },
  {
   "cell_type": "markdown",
   "metadata": {},
   "source": [
    "# Hieronder staat onzin die nog verwijderd moet worden! (spieken in tabellen)"
   ]
  },
  {
   "cell_type": "code",
   "execution_count": null,
   "metadata": {
    "collapsed": true
   },
   "outputs": [],
   "source": [
    "with pd.option_context('display.max_rows', None, 'display.max_columns', None):\n",
    "    print(hp_rf)\n",
    "    "
   ]
  },
  {
   "cell_type": "code",
   "execution_count": null,
   "metadata": {},
   "outputs": [],
   "source": [
    "df.head()"
   ]
  },
  {
   "cell_type": "code",
   "execution_count": null,
   "metadata": {},
   "outputs": [],
   "source": [
    "list(df)"
   ]
  },
  {
   "cell_type": "code",
   "execution_count": null,
   "metadata": {
    "collapsed": true
   },
   "outputs": [],
   "source": [
    "with pd.option_context('display.max_rows', None, 'display.max_columns', None):\n",
    "    print(cpid4)"
   ]
  },
  {
   "cell_type": "code",
   "execution_count": 296,
   "metadata": {},
   "outputs": [
    {
     "name": "stdout",
     "output_type": "stream",
     "text": [
      "                                  0               2               3   \\\n",
      "Onderwerp                   Perioden  Groningen (PV)  Friesland (PV)   \n",
      "Gemiddelde verkoopprijs.11      2014          165832          174240   \n",
      "Gemiddelde verkoopprijs.12      2015          171679          180461   \n",
      "Gemiddelde verkoopprijs.13      2016          180595          187950   \n",
      "\n",
      "                                            9                   12         14  \\\n",
      "Onderwerp                   Noord-Holland (PV)  Noord-Brabant (PV)  Amsterdam   \n",
      "Gemiddelde verkoopprijs.11              257128              228412     272438   \n",
      "Gemiddelde verkoopprijs.12              273911              235669     303925   \n",
      "Gemiddelde verkoopprijs.13              301899              248763     358976   \n",
      "\n",
      "                                                  18       26  \\\n",
      "Onderwerp                   's-Gravenhage (gemeente)  Tilburg   \n",
      "Gemiddelde verkoopprijs.11                    223820   198216   \n",
      "Gemiddelde verkoopprijs.12                    231302   204190   \n",
      "Gemiddelde verkoopprijs.13                    244849   208106   \n",
      "\n",
      "                                            27  \n",
      "Onderwerp                   Utrecht (gemeente)  \n",
      "Gemiddelde verkoopprijs.11              238446  \n",
      "Gemiddelde verkoopprijs.12              245900  \n",
      "Gemiddelde verkoopprijs.13              267618  \n"
     ]
    }
   ],
   "source": [
    "with pd.option_context('display.max_rows', None, 'display.max_columns', None):\n",
    "    print(sp_rf)"
   ]
  },
  {
   "cell_type": "code",
   "execution_count": null,
   "metadata": {},
   "outputs": [],
   "source": [
    "with pd.option_context('display.max_rows', None, 'display.max_columns', None):\n",
    "    print(rcd2)"
   ]
  },
  {
   "cell_type": "code",
   "execution_count": null,
   "metadata": {
    "collapsed": true
   },
   "outputs": [],
   "source": []
  },
  {
   "cell_type": "markdown",
   "metadata": {},
   "source": [
    "## Data\n",
    "\n",
    "[text here]"
   ]
  },
  {
   "cell_type": "code",
   "execution_count": 276,
   "metadata": {},
   "outputs": [
    {
     "name": "stdout",
     "output_type": "stream",
     "text": [
      "Aw, snap! We don't have an account for ''. Want to try again? You can authenticate with your email address or username. Sign in is not case sensitive.\n",
      "\n",
      "Don't have an account? plot.ly\n",
      "\n",
      "Questions? support@plot.ly\n"
     ]
    },
    {
     "ename": "PlotlyError",
     "evalue": "Because you didn't supply a 'file_id' in the call, we're assuming you're trying to snag a figure from a url. You supplied the url, '', we expected it to start with 'https://plot.ly'.\nRun help on this function for more information.",
     "output_type": "error",
     "traceback": [
      "\u001b[1;31m---------------------------------------------------------------------------\u001b[0m",
      "\u001b[1;31mPlotlyError\u001b[0m                               Traceback (most recent call last)",
      "\u001b[1;32m<ipython-input-276-c775f614cd30>\u001b[0m in \u001b[0;36m<module>\u001b[1;34m()\u001b[0m\n\u001b[0;32m      1\u001b[0m \u001b[0mtable\u001b[0m \u001b[1;33m=\u001b[0m \u001b[0mff\u001b[0m\u001b[1;33m.\u001b[0m\u001b[0mcreate_table\u001b[0m\u001b[1;33m(\u001b[0m\u001b[0mdf\u001b[0m\u001b[1;33m)\u001b[0m\u001b[1;33m\u001b[0m\u001b[0m\n\u001b[1;32m----> 2\u001b[1;33m \u001b[0mpy\u001b[0m\u001b[1;33m.\u001b[0m\u001b[0miplot\u001b[0m\u001b[1;33m(\u001b[0m\u001b[0mtable\u001b[0m\u001b[1;33m,\u001b[0m \u001b[0mfilename\u001b[0m\u001b[1;33m=\u001b[0m\u001b[1;34m'table1'\u001b[0m\u001b[1;33m)\u001b[0m\u001b[1;33m\u001b[0m\u001b[0m\n\u001b[0m",
      "\u001b[1;32mC:\\Users\\Dennis\\Anaconda3\\lib\\site-packages\\plotly\\plotly\\plotly.py\u001b[0m in \u001b[0;36miplot\u001b[1;34m(figure_or_data, **plot_options)\u001b[0m\n\u001b[0;32m    162\u001b[0m         \u001b[0membed_options\u001b[0m\u001b[1;33m[\u001b[0m\u001b[1;34m'height'\u001b[0m\u001b[1;33m]\u001b[0m \u001b[1;33m=\u001b[0m \u001b[0mstr\u001b[0m\u001b[1;33m(\u001b[0m\u001b[0membed_options\u001b[0m\u001b[1;33m[\u001b[0m\u001b[1;34m'height'\u001b[0m\u001b[1;33m]\u001b[0m\u001b[1;33m)\u001b[0m \u001b[1;33m+\u001b[0m \u001b[1;34m'px'\u001b[0m\u001b[1;33m\u001b[0m\u001b[0m\n\u001b[0;32m    163\u001b[0m \u001b[1;33m\u001b[0m\u001b[0m\n\u001b[1;32m--> 164\u001b[1;33m     \u001b[1;32mreturn\u001b[0m \u001b[0mtools\u001b[0m\u001b[1;33m.\u001b[0m\u001b[0membed\u001b[0m\u001b[1;33m(\u001b[0m\u001b[0murl\u001b[0m\u001b[1;33m,\u001b[0m \u001b[1;33m**\u001b[0m\u001b[0membed_options\u001b[0m\u001b[1;33m)\u001b[0m\u001b[1;33m\u001b[0m\u001b[0m\n\u001b[0m\u001b[0;32m    165\u001b[0m \u001b[1;33m\u001b[0m\u001b[0m\n\u001b[0;32m    166\u001b[0m \u001b[1;33m\u001b[0m\u001b[0m\n",
      "\u001b[1;32mC:\\Users\\Dennis\\Anaconda3\\lib\\site-packages\\plotly\\tools.py\u001b[0m in \u001b[0;36membed\u001b[1;34m(file_owner_or_url, file_id, width, height)\u001b[0m\n\u001b[0;32m    388\u001b[0m         \u001b[1;32melse\u001b[0m\u001b[1;33m:\u001b[0m\u001b[1;33m\u001b[0m\u001b[0m\n\u001b[0;32m    389\u001b[0m             \u001b[0murl\u001b[0m \u001b[1;33m=\u001b[0m \u001b[0mfile_owner_or_url\u001b[0m\u001b[1;33m\u001b[0m\u001b[0m\n\u001b[1;32m--> 390\u001b[1;33m         \u001b[1;32mreturn\u001b[0m \u001b[0mPlotlyDisplay\u001b[0m\u001b[1;33m(\u001b[0m\u001b[0murl\u001b[0m\u001b[1;33m,\u001b[0m \u001b[0mwidth\u001b[0m\u001b[1;33m,\u001b[0m \u001b[0mheight\u001b[0m\u001b[1;33m)\u001b[0m\u001b[1;33m\u001b[0m\u001b[0m\n\u001b[0m\u001b[0;32m    391\u001b[0m     \u001b[1;32melse\u001b[0m\u001b[1;33m:\u001b[0m\u001b[1;33m\u001b[0m\u001b[0m\n\u001b[0;32m    392\u001b[0m         if (get_config_defaults()['plotly_domain']\n",
      "\u001b[1;32mC:\\Users\\Dennis\\Anaconda3\\lib\\site-packages\\plotly\\tools.py\u001b[0m in \u001b[0;36m__init__\u001b[1;34m(self, url, width, height)\u001b[0m\n\u001b[0;32m   1363\u001b[0m         \u001b[1;32mdef\u001b[0m \u001b[0m__init__\u001b[0m\u001b[1;33m(\u001b[0m\u001b[0mself\u001b[0m\u001b[1;33m,\u001b[0m \u001b[0murl\u001b[0m\u001b[1;33m,\u001b[0m \u001b[0mwidth\u001b[0m\u001b[1;33m,\u001b[0m \u001b[0mheight\u001b[0m\u001b[1;33m)\u001b[0m\u001b[1;33m:\u001b[0m\u001b[1;33m\u001b[0m\u001b[0m\n\u001b[0;32m   1364\u001b[0m             \u001b[0mself\u001b[0m\u001b[1;33m.\u001b[0m\u001b[0mresource\u001b[0m \u001b[1;33m=\u001b[0m \u001b[0murl\u001b[0m\u001b[1;33m\u001b[0m\u001b[0m\n\u001b[1;32m-> 1365\u001b[1;33m             \u001b[0mself\u001b[0m\u001b[1;33m.\u001b[0m\u001b[0membed_code\u001b[0m \u001b[1;33m=\u001b[0m \u001b[0mget_embed\u001b[0m\u001b[1;33m(\u001b[0m\u001b[0murl\u001b[0m\u001b[1;33m,\u001b[0m \u001b[0mwidth\u001b[0m\u001b[1;33m=\u001b[0m\u001b[0mwidth\u001b[0m\u001b[1;33m,\u001b[0m \u001b[0mheight\u001b[0m\u001b[1;33m=\u001b[0m\u001b[0mheight\u001b[0m\u001b[1;33m)\u001b[0m\u001b[1;33m\u001b[0m\u001b[0m\n\u001b[0m\u001b[0;32m   1366\u001b[0m             \u001b[0msuper\u001b[0m\u001b[1;33m(\u001b[0m\u001b[0mPlotlyDisplay\u001b[0m\u001b[1;33m,\u001b[0m \u001b[0mself\u001b[0m\u001b[1;33m)\u001b[0m\u001b[1;33m.\u001b[0m\u001b[0m__init__\u001b[0m\u001b[1;33m(\u001b[0m\u001b[0mdata\u001b[0m\u001b[1;33m=\u001b[0m\u001b[0mself\u001b[0m\u001b[1;33m.\u001b[0m\u001b[0membed_code\u001b[0m\u001b[1;33m)\u001b[0m\u001b[1;33m\u001b[0m\u001b[0m\n\u001b[0;32m   1367\u001b[0m \u001b[1;33m\u001b[0m\u001b[0m\n",
      "\u001b[1;32mC:\\Users\\Dennis\\Anaconda3\\lib\\site-packages\\plotly\\tools.py\u001b[0m in \u001b[0;36mget_embed\u001b[1;34m(file_owner_or_url, file_id, width, height)\u001b[0m\n\u001b[0;32m    293\u001b[0m                 \u001b[1;34m\"'{1}'.\"\u001b[0m\u001b[1;33m\u001b[0m\u001b[0m\n\u001b[0;32m    294\u001b[0m                 \u001b[1;34m\"\\nRun help on this function for more information.\"\u001b[0m\u001b[1;33m\u001b[0m\u001b[0m\n\u001b[1;32m--> 295\u001b[1;33m                 \"\".format(url, plotly_rest_url))\n\u001b[0m\u001b[0;32m    296\u001b[0m         \u001b[0murlsplit\u001b[0m \u001b[1;33m=\u001b[0m \u001b[0msix\u001b[0m\u001b[1;33m.\u001b[0m\u001b[0mmoves\u001b[0m\u001b[1;33m.\u001b[0m\u001b[0murllib\u001b[0m\u001b[1;33m.\u001b[0m\u001b[0mparse\u001b[0m\u001b[1;33m.\u001b[0m\u001b[0murlparse\u001b[0m\u001b[1;33m(\u001b[0m\u001b[0murl\u001b[0m\u001b[1;33m)\u001b[0m\u001b[1;33m\u001b[0m\u001b[0m\n\u001b[0;32m    297\u001b[0m         \u001b[0mfile_owner\u001b[0m \u001b[1;33m=\u001b[0m \u001b[0murlsplit\u001b[0m\u001b[1;33m.\u001b[0m\u001b[0mpath\u001b[0m\u001b[1;33m.\u001b[0m\u001b[0msplit\u001b[0m\u001b[1;33m(\u001b[0m\u001b[1;34m'/'\u001b[0m\u001b[1;33m)\u001b[0m\u001b[1;33m[\u001b[0m\u001b[1;36m1\u001b[0m\u001b[1;33m]\u001b[0m\u001b[1;33m.\u001b[0m\u001b[0msplit\u001b[0m\u001b[1;33m(\u001b[0m\u001b[1;34m'~'\u001b[0m\u001b[1;33m)\u001b[0m\u001b[1;33m[\u001b[0m\u001b[1;36m1\u001b[0m\u001b[1;33m]\u001b[0m\u001b[1;33m\u001b[0m\u001b[0m\n",
      "\u001b[1;31mPlotlyError\u001b[0m: Because you didn't supply a 'file_id' in the call, we're assuming you're trying to snag a figure from a url. You supplied the url, '', we expected it to start with 'https://plot.ly'.\nRun help on this function for more information."
     ]
    }
   ],
   "source": [
    "table = ff.create_table(df)\n",
    "py.iplot(table, filename='table1')\n",
    "\n",
    "#plotly is niet gratissss :("
   ]
  },
  {
   "cell_type": "code",
   "execution_count": null,
   "metadata": {},
   "outputs": [],
   "source": [
    "#work the data magic\n",
    "\n",
    "#save to external csv file\n",
    "#df.to_csv('finaldata.csv')"
   ]
  },
  {
   "cell_type": "markdown",
   "metadata": {},
   "source": [
    "## Analysis\n",
    "\n",
    "[text here]"
   ]
  },
  {
   "cell_type": "code",
   "execution_count": null,
   "metadata": {
    "collapsed": true
   },
   "outputs": [],
   "source": [
    "#graphs\n",
    "\n"
   ]
  },
  {
   "cell_type": "code",
   "execution_count": null,
   "metadata": {
    "collapsed": true
   },
   "outputs": [],
   "source": [
    "#regresssions"
   ]
  },
  {
   "cell_type": "markdown",
   "metadata": {},
   "source": [
    "## Conclusion\n",
    "\n",
    "[text here]"
   ]
  },
  {
   "cell_type": "markdown",
   "metadata": {},
   "source": [
    "## References"
   ]
  }
 ],
 "metadata": {
  "kernelspec": {
   "display_name": "Python 3",
   "language": "python",
   "name": "python3"
  },
  "language_info": {
   "codemirror_mode": {
    "name": "ipython",
    "version": 3
   },
   "file_extension": ".py",
   "mimetype": "text/x-python",
   "name": "python",
   "nbconvert_exporter": "python",
   "pygments_lexer": "ipython3",
   "version": "3.6.1"
  }
 },
 "nbformat": 4,
 "nbformat_minor": 2
}
