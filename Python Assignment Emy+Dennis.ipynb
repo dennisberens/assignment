{
 "cells": [
  {
   "cell_type": "markdown",
   "metadata": {},
   "source": [
    "| Name | SNR |\n",
    "| --- | --- |\n",
    "| Emy Meurs | u1250696 |\n",
    "| Dennis Berens | u1251106 |"
   ]
  },
  {
   "cell_type": "markdown",
   "metadata": {},
   "source": [
    "# The political preferences of drug addicts\n",
    "** Python Assignment **"
   ]
  },
  {
   "cell_type": "code",
   "execution_count": null,
   "metadata": {
    "scrolled": true
   },
   "outputs": [],
   "source": [
    "#Import necessary extensions\n",
    "import pandas as pd\n",
    "#import plotly.plotly as py\n",
    "#from plotly.graph_objs import *\n",
    "#import plotly.tools as tls\n",
    "import numpy as np\n",
    "#Import dataset\n",
    "df = pd.read_csv(\"data.csv\", engine = \"python\")\n"
   ]
  },
  {
   "cell_type": "markdown",
   "metadata": {},
   "source": [
    "## Research question\n",
    "\n",
    "\n",
    "\n"
   ]
  },
  {
   "cell_type": "code",
   "execution_count": null,
   "metadata": {},
   "outputs": [],
   "source": [
    "#Clean up dataset\n",
    "#df.head()\n",
    "df.drop(df.columns[0:3], axis=1)\n",
    "#df.drop(df.columns[11:159], axis=1)\n",
    "#df.drop(df.columns[12:13], axis=1)\n",
    "#df.drop(df.columns[13:13], axis=1)"
   ]
  }
 ],
 "metadata": {
  "kernelspec": {
   "display_name": "Python 3",
   "language": "python",
   "name": "python3"
  },
  "language_info": {
   "codemirror_mode": {
    "name": "ipython",
    "version": 3
   },
   "file_extension": ".py",
   "mimetype": "text/x-python",
   "name": "python",
   "nbconvert_exporter": "python",
   "pygments_lexer": "ipython3",
   "version": "3.6.1"
  }
 },
 "nbformat": 4,
 "nbformat_minor": 2
}
