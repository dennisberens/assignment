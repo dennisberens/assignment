{
 "cells": [
  {
   "cell_type": "markdown",
   "metadata": {},
   "source": [
    "| Name | SNR |\n",
    "| --- | --- |\n",
    "| Emy Meurs | u1250696 |\n",
    "| Dennis Berens | u1251106 |"
   ]
  },
  {
   "cell_type": "markdown",
   "metadata": {},
   "source": [
    "# Is there a housing bubble in the Netherlands?\n",
    "<dt>A grahpical and regression analysis of CBS data</dt>\n",
    "\n",
    "<b>Date:</b> January 31, 2018 <br> <b>Course:</b> Applied Economic Analysis"
   ]
  },
  {
   "cell_type": "markdown",
   "metadata": {},
   "source": [
    "### Table of contents\n",
    "\n",
    "<a href=\"#Introduction\">Introduction</a>\n",
    "\n",
    "<a href=\"#2\">Research question and method</a>\n",
    "\n",
    "<a href=\"#5\">Data</a>\n",
    "\n",
    "<a href=\"#6\">Graphical analysis</a>\n",
    "\n",
    "<a href=\"#7\">Regression analysis</a>\n",
    "\n",
    "<a href=\"#8\">Conclusion</a>"
   ]
  },
  {
   "cell_type": "markdown",
   "metadata": {},
   "source": [
    "***\n",
    "\n",
    "## Introduction\n",
    "<a name=\"Introduction\"></a>\n",
    "\n",
    "Piketty <a href=\"https://dowbor.org/blog/wp-content/uploads/2014/06/14Thomas-Piketty.pdf\">(2014)</a> showed in his research that inequality is on the rise, this is mainly due to the faster growing r compared to g. Therefore the wealth of the capitalist class will grow faster than the incomes of workers, leading to an 'endless inegalitarion spiral'. One important factor of this increased wealth is housing. Also Maclennan and Miao <a href=\"http://www.tandfonline.com/doi/pdf/10.1080/14036096.2017.1293378\">(2017)</a> provide some evidence of the importance of housing in total wealth. They show that the demand for housing is income inelastic, it will grow faster then income, and price inelastic, demand falls slower than the rise of the prices. This can explain the housing bubble that started the crisis in 2008, as housing is a great part of wealth a burst of the bubble creates a crisis. \n",
    "\n",
    "The video below shows the effect of surging housing prices on accessibility of cities for starters.\n"
   ]
  },
  {
   "cell_type": "markdown",
   "metadata": {},
   "source": [
    "<a href=\"http://www.youtube.com/watch?feature=player_embedded&v=cdkS5Bg3e4A\n",
    "\" target=\"_blank\"><img src=\"http://img.youtube.com/vi/cdkS5Bg3e4A/0.jpg\" \n",
    "alt=\"Economist Video\" width=\"240\" height=\"180\" border=\"10\" /></a>"
   ]
  },
  {
   "cell_type": "markdown",
   "metadata": {},
   "source": [
    "If we focus on the Netherlands, we can see that the housing prices are on the rise again and demand only keeps growing. As Claeys and schoenmaker <a href=\"http://bruegel.org/2017/01/amsterdams-boom-bust-housing-market-needs-its-own-mortgage-limits/\">(2017)</a> show, especially Amsterdam is boomind at the moment. This is good for homeowners, but if this rise in prices turns out to be a bubble, they might also be in danger.\n",
    "\n",
    "<img src=\"Capture.JPG\" alt=\"picture\">  \n",
    "\n",
    "In this assignment we will have a look if the bubble is enlargening in The Netherlands by looking at the demand versus income and the demand versus housing prices."
   ]
  },
  {
   "cell_type": "markdown",
   "metadata": {},
   "source": [
    "***\n",
    "\n",
    "## Research question\n",
    "<a name=\"2\"></a>\n",
    "In this analysis we dive deeper into the Dutch housing market right now. In particular, we aim to answer the following question: Is there a housing bubble in (a part of) the Netherlands?\n",
    "\n",
    "### Methodology\n",
    "We will use data from the CPB that gives the national income, the housing prices and the amount of houses that has been sold. With this data we will see if there is indeed income elasticity and price inelasticity. We will compare the national income with the housing prices to se the correlation. After we will show how the housing prices move compared to the amount of houses sold in the Netherlands. Finally we will conduct a short regression on the effect of both housing prices as houses sold on the national income to see if Piketty was right, that housing has become a great part of wealth."
   ]
  },
  {
   "cell_type": "code",
   "execution_count": 1,
   "metadata": {},
   "outputs": [
    {
     "name": "stderr",
     "output_type": "stream",
     "text": [
      "C:\\Users\\Dennis\\Anaconda3\\lib\\site-packages\\statsmodels\\compat\\pandas.py:56: FutureWarning:\n",
      "\n",
      "The pandas.core.datetools module is deprecated and will be removed in a future version. Please use the pandas.tseries module instead.\n",
      "\n"
     ]
    }
   ],
   "source": [
    "# Importing requires packages\n",
    "import pandas as pd\n",
    "import plotly.plotly as py\n",
    "import cufflinks as cf\n",
    "import plotly.graph_objs as go\n",
    "import plotly.figure_factory as f\n",
    "from plotly.grid_objs import Grid, Column\n",
    "import plotly.tools as tls\n",
    "import numpy as np\n",
    "from datetime import datetime\n",
    "import statsmodels.api as sm\n",
    "from sklearn import datasets, linear_model\n",
    "from scipy import stats"
   ]
  },
  {
   "cell_type": "markdown",
   "metadata": {},
   "source": [
    "***\n",
    "\n",
    "## Data\n",
    "<a name=\"5\"></a>\n",
    "\n",
    "We use data from the StatLine site of the CPB. The data concerns the average primaire income of Dutch people from 2000-2016. We also use the Price index of existing houses in the Netherlands, these count or 1995-2000-2005-2011/2017. This time frame is also used for the amount of houses sold."
   ]
  },
  {
   "cell_type": "code",
   "execution_count": 2,
   "metadata": {
    "collapsed": true
   },
   "outputs": [],
   "source": [
    "#load data set\n",
    "avw = pd.read_csv(\"AVW.csv\", delimiter=\";\", skiprows=1) #aantalverkochtewoningen\n",
    "gpi = pd.read_csv(\"GPI.csv\", delimiter=\";\") #gemiddeldprimairinkomen\n",
    "pbw = pd.read_csv(\"PBW.csv\", delimiter=\";\", skiprows=1) #prijsindexbestaandewoningen\n",
    "com = pd.read_csv(\"combined_pbw_avw.csv\", delimiter=\",\") #combined dataset\n",
    "avw_nederland = avw['Nederland'] #select column Netherlands \n",
    "pbw_nederland = pbw['Nederland']\n",
    "pbw_amsterdam = pbw['Amsterdam'] #select column Amsterdam\n",
    "time = pbw[\"Regio's\"] #set time as the years in the table\n",
    "gpi_year = gpi[\"Unnamed: 0\"] \n",
    "gpi_income = gpi[\"Gemiddeld persoonlijk primair inkomen\"]"
   ]
  },
  {
   "cell_type": "code",
   "execution_count": 3,
   "metadata": {
    "collapsed": true
   },
   "outputs": [],
   "source": [
    "#declare variables for later use\n",
    "gpi_reg = gpi_income[9:17]\n",
    "pbw_reg = pbw_nederland[3:11]\n",
    "avw_reg = avw_nederland[3:11]"
   ]
  },
  {
   "cell_type": "code",
   "execution_count": 4,
   "metadata": {
    "collapsed": true
   },
   "outputs": [],
   "source": [
    "#login to plotly\n",
    "tls.set_credentials_file(username='dennisberens24', api_key='758qNm6k6k8QtFrqN3sk')"
   ]
  },
  {
   "cell_type": "markdown",
   "metadata": {},
   "source": [
    "### House Price Index\n",
    "Below, the price index of houses in a selection of provinces is shown. "
   ]
  },
  {
   "cell_type": "code",
   "execution_count": 5,
   "metadata": {},
   "outputs": [
    {
     "data": {
      "text/html": [
       "<iframe id=\"igraph\" scrolling=\"no\" style=\"border:none;\" seamless=\"seamless\" src=\"https://plot.ly/~dennisberens24/139.embed\" height=\"410px\" width=\"100%\"></iframe>"
      ],
      "text/plain": [
       "<plotly.tools.PlotlyDisplay object>"
      ]
     },
     "execution_count": 5,
     "metadata": {},
     "output_type": "execute_result"
    }
   ],
   "source": [
    "#show the price index for current houses\n",
    "tablepbw = f.create_table(pbw)\n",
    "py.iplot(tablepbw)"
   ]
  },
  {
   "cell_type": "markdown",
   "metadata": {},
   "source": [
    "### Income\n",
    "\n",
    "We also take a further look at the average personal primary income."
   ]
  },
  {
   "cell_type": "code",
   "execution_count": 6,
   "metadata": {},
   "outputs": [
    {
     "data": {
      "text/html": [
       "<iframe id=\"igraph\" scrolling=\"no\" style=\"border:none;\" seamless=\"seamless\" src=\"https://plot.ly/~dennisberens24/141.embed\" height=\"590px\" width=\"100%\"></iframe>"
      ],
      "text/plain": [
       "<plotly.tools.PlotlyDisplay object>"
      ]
     },
     "execution_count": 6,
     "metadata": {},
     "output_type": "execute_result"
    }
   ],
   "source": [
    "tablegpi = f.create_table(gpi)\n",
    "py.iplot(tablegpi)"
   ]
  },
  {
   "cell_type": "markdown",
   "metadata": {},
   "source": [
    "### Number of houses sold\n",
    "Lastly, we show the number of houses sold for the same period as the data on house prices."
   ]
  },
  {
   "cell_type": "code",
   "execution_count": 7,
   "metadata": {},
   "outputs": [
    {
     "data": {
      "text/html": [
       "<iframe id=\"igraph\" scrolling=\"no\" style=\"border:none;\" seamless=\"seamless\" src=\"https://plot.ly/~dennisberens24/143.embed\" height=\"410px\" width=\"100%\"></iframe>"
      ],
      "text/plain": [
       "<plotly.tools.PlotlyDisplay object>"
      ]
     },
     "execution_count": 7,
     "metadata": {},
     "output_type": "execute_result"
    }
   ],
   "source": [
    "tableavw = f.create_table(avw)\n",
    "py.iplot(tableavw)"
   ]
  },
  {
   "cell_type": "markdown",
   "metadata": {},
   "source": [
    "***\n",
    "\n",
    "## Graphical analysis\n",
    "<a name=\"6\"></a>\n",
    "Before doing regressions, we first take a graphical look at the data."
   ]
  },
  {
   "cell_type": "markdown",
   "metadata": {},
   "source": [
    "### Scatter plots\n",
    "To see whether there is any trend we can find, we first create a scatter plot of housing prices in the Netherlands and Amsterdam."
   ]
  },
  {
   "cell_type": "code",
   "execution_count": 8,
   "metadata": {},
   "outputs": [
    {
     "data": {
      "text/html": [
       "<iframe id=\"igraph\" scrolling=\"no\" style=\"border:none;\" seamless=\"seamless\" src=\"https://plot.ly/~dennisberens24/145.embed\" height=\"525px\" width=\"100%\"></iframe>"
      ],
      "text/plain": [
       "<plotly.tools.PlotlyDisplay object>"
      ]
     },
     "execution_count": 8,
     "metadata": {},
     "output_type": "execute_result"
    }
   ],
   "source": [
    "trace1 = go.Scatter(\n",
    "    x=time, \n",
    "    y=pbw_nederland, \n",
    "    name='Netherlands', \n",
    "    line=dict(\n",
    "        color=  ('rgb(66, 134, 244)'),\n",
    "        width= 5\n",
    "        )\n",
    "    )\n",
    "trace2 = go.Scatter(\n",
    "    x=time, \n",
    "    y=pbw_amsterdam, \n",
    "    name='Amsterdam', \n",
    "    line=dict(\n",
    "        color=  ('rgb(65, 244, 226)'),\n",
    "        width= 5\n",
    "        )\n",
    "    )\n",
    "data1 = [trace1, trace2]\n",
    "layout = dict(title = 'Housing Prices',\n",
    "              xaxis = dict(title = 'Years'),\n",
    "              yaxis = dict(title = 'Housing prices in euros (x1000)'),\n",
    "              )\n",
    "graph1 = dict(data=data1, layout=layout)\n",
    "py.iplot(graph1, layout=layout)\n"
   ]
  },
  {
   "cell_type": "markdown",
   "metadata": {},
   "source": [
    "We do the same for income."
   ]
  },
  {
   "cell_type": "code",
   "execution_count": 9,
   "metadata": {},
   "outputs": [
    {
     "data": {
      "text/html": [
       "<iframe id=\"igraph\" scrolling=\"no\" style=\"border:none;\" seamless=\"seamless\" src=\"https://plot.ly/~dennisberens24/147.embed\" height=\"525px\" width=\"100%\"></iframe>"
      ],
      "text/plain": [
       "<plotly.tools.PlotlyDisplay object>"
      ]
     },
     "execution_count": 9,
     "metadata": {},
     "output_type": "execute_result"
    }
   ],
   "source": [
    "income = [go.Scatter(\n",
    "    x=gpi_year, \n",
    "    y=gpi_income,\n",
    "    name='Netherlands', \n",
    "    line=dict(\n",
    "        color=  ('rgb(66, 134, 244)'),\n",
    "        width= 5\n",
    "        )\n",
    ")]\n",
    "py.iplot(income)"
   ]
  },
  {
   "cell_type": "markdown",
   "metadata": {},
   "source": [
    "### Development per region over time\n",
    "From the example above we see that the path of house prices is not linear, and that the trend differs for the Netherlands as a whole and Amsterdam in particular. Therefore we will construct a graph that depicts the number of houses sold and the average price of a house per region, over time. "
   ]
  },
  {
   "cell_type": "code",
   "execution_count": 10,
   "metadata": {},
   "outputs": [],
   "source": [
    "#First, we select the data from the dataset we imported previously\n",
    "years_from_col = set(com['Year'])\n",
    "years_ints = sorted(list(years_from_col))\n",
    "years = [str(year) for year in years_ints]\n",
    "areas = [] #make a list of areas to use later\n",
    "for area in com['Area']:\n",
    "    if area not in areas: \n",
    "        areas.append(area)\n",
    "columns = [] # make a grid in order to be able to use the data in this type of graph\n",
    "for year in years:\n",
    "    for area in areas:\n",
    "        com_by_year = com[com['Year'] == int(year)]\n",
    "        com_by_year_and_area = com_by_year[com_by_year['Area'] == area]\n",
    "        for col_name in com_by_year_and_area:\n",
    "            column_name = '{year}_{area}_{header}_com_grid'.format(\n",
    "                year=year, area=area, header=col_name\n",
    "            )\n",
    "            a_column = Column(list(com_by_year_and_area[col_name]), column_name)\n",
    "            columns.append(a_column)\n",
    "grid = Grid(columns)\n",
    "url = py.grid_ops.upload(grid, 'com_pbw_avw_grid', auto_open=False) # save the grid in the plotly account we signed in to before"
   ]
  },
  {
   "cell_type": "code",
   "execution_count": 11,
   "metadata": {
    "collapsed": true
   },
   "outputs": [],
   "source": [
    "#Second, we create a (nearly empty) figure\n",
    "figure = {\n",
    "    'data': [],\n",
    "    'layout': {},\n",
    "    'frames': [],\n",
    "    'config': {'scrollzoom': True}\n",
    "}\n",
    "\n",
    "#and fill the layout with \n",
    "figure['layout']['xaxis'] = {'range': [2500, 250000], 'title': 'Number of Houses Sold', 'gridcolor': '#FFFFFF'}\n",
    "figure['layout']['yaxis'] = {'range': [20, 140], 'title': 'Average Value House','gridcolor': '#FFFFFF'}\n",
    "figure['layout']['hovermode'] = 'closest'\n",
    "figure['layout']['plot_bgcolor'] = 'rgb(250, 232, 243)'"
   ]
  },
  {
   "cell_type": "code",
   "execution_count": 12,
   "metadata": {
    "collapsed": true
   },
   "outputs": [],
   "source": [
    "#We want to be able to scroll through the graph over the years\n",
    "sliders_dict = {\n",
    "    'active': 0,\n",
    "    'yanchor': 'top',\n",
    "    'xanchor': 'left',\n",
    "    'currentvalue': {\n",
    "        'font': {'size': 20},\n",
    "        'prefix': 'Year:',\n",
    "        'visible': True,\n",
    "        'xanchor': 'right'\n",
    "    },\n",
    "    'transition': {'duration': 500, 'easing': 'cubic-in-out'},\n",
    "    'pad': {'b': 10, 't': 50},\n",
    "    'len': 0.8,\n",
    "    'x': 0.1,\n",
    "    'y': 0,\n",
    "    'steps': []\n",
    "}"
   ]
  },
  {
   "cell_type": "code",
   "execution_count": 13,
   "metadata": {
    "collapsed": true,
    "scrolled": true
   },
   "outputs": [],
   "source": [
    "#For which we need buttons\n",
    "figure['layout']['updatemenus'] = [\n",
    "    {\n",
    "        'buttons': [\n",
    "            {\n",
    "                'args': [None, {'frame': {'duration': 500, 'redraw': False},\n",
    "                         'fromcurrent': True, 'transition': {'duration': 300, 'easing': 'quadratic-in-out'}}],\n",
    "                'label': 'Play',\n",
    "                'method': 'animate'\n",
    "            },\n",
    "            {\n",
    "                'args': [[None], {'frame': {'duration': 0, 'redraw': False}, 'mode': 'immediate',\n",
    "                'transition': {'duration': 0}}],\n",
    "                'label': 'Pause',\n",
    "                'method': 'animate'\n",
    "            }\n",
    "        ],\n",
    "        'direction': 'left',\n",
    "        'pad': {'r': 10, 't': 100},\n",
    "        'showactive': False,\n",
    "        'type': 'buttons',\n",
    "        'x': 0.1,\n",
    "        'xanchor': 'right',\n",
    "        'y': 0,\n",
    "        'yanchor': 'top'\n",
    "    }\n",
    "]\n",
    "#In order to make clear which dot is what\n",
    "custom_colors = {\n",
    "    'Nederland': 'rgb(66, 134, 244)',\n",
    "    'Groningen (PV)': 'rgb(230, 99, 250)',\n",
    "    'Zuid-Holland (PV)': 'rgb(99, 110, 250)',\n",
    "    'Noord-Brabant (PV)': 'rgb(25, 211, 243)',\n",
    "    'Amsterdam': 'rgb(65, 244, 226)',\n",
    "    'Rotterdam': 'rgb(50, 211, 250)',\n",
    "}"
   ]
  },
  {
   "cell_type": "code",
   "execution_count": 14,
   "metadata": {
    "collapsed": true,
    "scrolled": true
   },
   "outputs": [],
   "source": [
    "col_name_template = '{year}_{area}_{header}_com_grid'\n",
    "year = 1995\n",
    "for area in areas:\n",
    "    data_dict = {\n",
    "        'xsrc': grid.get_column_reference(col_name_template.format(\n",
    "            year=year, area=area, header='AVW'\n",
    "        )),\n",
    "        'ysrc': grid.get_column_reference(col_name_template.format(\n",
    "            year=year, area=area, header='PBW'\n",
    "        )),\n",
    "        'mode': 'markers',\n",
    "        'textsrc': grid.get_column_reference(col_name_template.format(\n",
    "            year=year, area=area, header='Area'\n",
    "        )),\n",
    "        'marker': {\n",
    "            'sizemode': 'Area',\n",
    "            'sizeref': 200000,\n",
    "            'color': custom_colors[area] #and color the dot in the previously chosen color\n",
    "        },\n",
    "        'name': area\n",
    "    }\n",
    "    figure['data'].append(data_dict)"
   ]
  },
  {
   "cell_type": "code",
   "execution_count": 15,
   "metadata": {
    "collapsed": true
   },
   "outputs": [],
   "source": [
    "#Now we state which axis shows data from what column for each area and each year\n",
    "for year in years:\n",
    "    frame = {'data': [], 'name': str(year)}\n",
    "    for area in areas:\n",
    "        data_dict = {\n",
    "            'xsrc': grid.get_column_reference(col_name_template.format(\n",
    "                year=year, area=area, header='AVW'\n",
    "            )),\n",
    "            'ysrc': grid.get_column_reference(col_name_template.format(\n",
    "                year=year, area=area, header='PBW'\n",
    "            )),\n",
    "            'mode': 'markers',\n",
    "            'textsrc': grid.get_column_reference(col_name_template.format(\n",
    "                year=year, area=area, header='Area'\n",
    "                )),\n",
    "            'marker': {\n",
    "                'sizemode': 'area',\n",
    "                'sizeref': 200000,\n",
    "                'color': custom_colors[area] #and color the dot in the previously chosen color\n",
    "            },\n",
    "            'name': area\n",
    "        }\n",
    "        frame['data'].append(data_dict)\n",
    "\n",
    "    figure['frames'].append(frame)\n",
    "    \n",
    "    #Now we are ready to concstruct an animation\n",
    "    slider_step = {'args': [\n",
    "        [year],\n",
    "        {'frame': {'duration': 500, 'redraw': False},\n",
    "         'mode': 'immediate',\n",
    "       'transition': {'duration': 500}}\n",
    "     ],\n",
    "     'label': year,\n",
    "     'method': 'animate'}\n",
    "    sliders_dict['steps'].append(slider_step)\n",
    "\n",
    "figure['layout']['sliders'] = [sliders_dict]"
   ]
  },
  {
   "cell_type": "code",
   "execution_count": 16,
   "metadata": {},
   "outputs": [
    {
     "data": {
      "text/html": [
       "<iframe id=\"igraph\" scrolling=\"no\" style=\"border:none;\" seamless=\"seamless\" src=\"https://plot.ly/~dennisberens24/150.embed\" height=\"525px\" width=\"100%\"></iframe>"
      ],
      "text/plain": [
       "<plotly.tools.PlotlyDisplay object>"
      ]
     },
     "execution_count": 16,
     "metadata": {},
     "output_type": "execute_result"
    }
   ],
   "source": [
    "#And let plotly create it\n",
    "py.icreate_animations(figure, ('pbw_avw'))"
   ]
  },
  {
   "cell_type": "code",
   "execution_count": 17,
   "metadata": {
    "collapsed": true
   },
   "outputs": [],
   "source": [
    "#url in case the graph is not shown in git\n",
    "#https://plot.ly/~dennisberens24/78/"
   ]
  },
  {
   "cell_type": "markdown",
   "metadata": {},
   "source": [
    "We can make several observations from this graph\n",
    "* In 1995 the regional differences in house prices where relatively small compared to today\n",
    "* At the time when the index of house prices is 100 (in 2010), the number of houses sold in Groningen (province) is almost the same as the number of houses sold in Rotterdam (municipality).\n",
    "* When house prices fell (further) after 2010, this mainly happend in relatively periphical areas such as Groningen and Noord-Brabant. The large cities were less affected.\n",
    "* In 2014 house prices did not rise dramatically yet, but the number of houses sold increased. This could indicate an increase in demand for houses that in some cases might have been for sale for quite some time.\n",
    "* Afterwards house prices continued to climb again. In Amsterdam prices in 2015 were on average already 2.8% higher than in 2010, whereas prices where lower than in 2010 elsewhere in the Netherlands.\n",
    "* Moving on to 2017 we see that the points on the graph have diverged: whereas in 1995 differences where present though not very substantial, in 2017 the dots for the cities and provinces are further away from each other.\n",
    "* It has taken exactly 7 years for house prices in the Netherlands to be at the same level (on average) as in 2010. At the same time house prices in Amsterdam have risen by 33.1% whereas those in Groningen have fallen by 3.2%. \n",
    "\n",
    "### Summary graphical analysis\n",
    "\n",
    "From the graphs we have created, we can conclude that.\n",
    "1. For this set of areas, there has been divergence in the number of houses sold as well as the average price of a house.\n",
    "2. House prices in the Netherlands have been falling, but the increase in prices has differed across regions.\n",
    "3. A higher average price does not always lead to more houses being sold, indicating that demand may outweigh supply.\n",
    "\n",
    "Next, we will use a regression analysis to take a more in depth look at the data.\n",
    "\n",
    "***"
   ]
  },
  {
   "cell_type": "markdown",
   "metadata": {},
   "source": [
    "## Regression analysis\n",
    "<a name=\"7\"></a>\n",
    "In this analysis we aim to find out whether there is a (significant) relationship between income, housing prices and the number of houses sold."
   ]
  },
  {
   "cell_type": "code",
   "execution_count": 18,
   "metadata": {
    "collapsed": true
   },
   "outputs": [],
   "source": [
    "#declare variables\n",
    "x = list(gpi_reg)\n",
    "y = list(pbw_reg)\n",
    "z = list(avw_reg)"
   ]
  },
  {
   "cell_type": "markdown",
   "metadata": {},
   "source": [
    "For the scope of this assignment, we believe it to be most appropriate to use a simple OLS regression."
   ]
  },
  {
   "cell_type": "markdown",
   "metadata": {},
   "source": [
    "$$ \n",
    "\\begin{array}{rcl} \n",
    "Y_1 & = & \\alpha + \\beta_{1} X + \\epsilon \\\\\n",
    "Y_2 & = & \\alpha + \\beta_{2} Z + \\epsilon\n",
    "\\end{array} $$"
   ]
  },
  {
   "cell_type": "markdown",
   "metadata": {},
   "source": [
    "### Model 1"
   ]
  },
  {
   "cell_type": "code",
   "execution_count": 19,
   "metadata": {
    "collapsed": true
   },
   "outputs": [],
   "source": [
    "#A simple model with income and number of houses sold\n",
    "model1 = sm.OLS(y, x).fit()\n",
    "predictions = model1.predict(y)"
   ]
  },
  {
   "cell_type": "markdown",
   "metadata": {},
   "source": [
    "We summarize the results of this regression in the following table."
   ]
  },
  {
   "cell_type": "code",
   "execution_count": 20,
   "metadata": {},
   "outputs": [
    {
     "name": "stderr",
     "output_type": "stream",
     "text": [
      "C:\\Users\\Dennis\\Anaconda3\\lib\\site-packages\\scipy\\stats\\stats.py:1334: UserWarning:\n",
      "\n",
      "kurtosistest only valid for n>=20 ... continuing anyway, n=8\n",
      "\n"
     ]
    },
    {
     "data": {
      "text/html": [
       "<table class=\"simpletable\">\n",
       "<caption>OLS Regression Results</caption>\n",
       "<tr>\n",
       "  <th>Dep. Variable:</th>            <td>y</td>        <th>  R-squared:         </th> <td>   0.996</td>\n",
       "</tr>\n",
       "<tr>\n",
       "  <th>Model:</th>                   <td>OLS</td>       <th>  Adj. R-squared:    </th> <td>   0.995</td>\n",
       "</tr>\n",
       "<tr>\n",
       "  <th>Method:</th>             <td>Least Squares</td>  <th>  F-statistic:       </th> <td>   1714.</td>\n",
       "</tr>\n",
       "<tr>\n",
       "  <th>Date:</th>             <td>Wed, 31 Jan 2018</td> <th>  Prob (F-statistic):</th> <td>1.25e-09</td>\n",
       "</tr>\n",
       "<tr>\n",
       "  <th>Time:</th>                 <td>22:53:33</td>     <th>  Log-Likelihood:    </th> <td> -25.585</td>\n",
       "</tr>\n",
       "<tr>\n",
       "  <th>No. Observations:</th>      <td>     8</td>      <th>  AIC:               </th> <td>   53.17</td>\n",
       "</tr>\n",
       "<tr>\n",
       "  <th>Df Residuals:</th>          <td>     7</td>      <th>  BIC:               </th> <td>   53.25</td>\n",
       "</tr>\n",
       "<tr>\n",
       "  <th>Df Model:</th>              <td>     1</td>      <th>                     </th>     <td> </td>   \n",
       "</tr>\n",
       "<tr>\n",
       "  <th>Covariance Type:</th>      <td>nonrobust</td>    <th>                     </th>     <td> </td>   \n",
       "</tr>\n",
       "</table>\n",
       "<table class=\"simpletable\">\n",
       "<tr>\n",
       "   <td></td>     <th>coef</th>     <th>std err</th>      <th>t</th>      <th>P>|t|</th>  <th>[0.025</th>    <th>0.975]</th>  \n",
       "</tr>\n",
       "<tr>\n",
       "  <th>x1</th> <td>    2.1063</td> <td>    0.051</td> <td>   41.396</td> <td> 0.000</td> <td>    1.986</td> <td>    2.227</td>\n",
       "</tr>\n",
       "</table>\n",
       "<table class=\"simpletable\">\n",
       "<tr>\n",
       "  <th>Omnibus:</th>       <td> 1.613</td> <th>  Durbin-Watson:     </th> <td>   0.548</td>\n",
       "</tr>\n",
       "<tr>\n",
       "  <th>Prob(Omnibus):</th> <td> 0.446</td> <th>  Jarque-Bera (JB):  </th> <td>   0.793</td>\n",
       "</tr>\n",
       "<tr>\n",
       "  <th>Skew:</th>          <td> 0.344</td> <th>  Prob(JB):          </th> <td>   0.673</td>\n",
       "</tr>\n",
       "<tr>\n",
       "  <th>Kurtosis:</th>      <td> 1.620</td> <th>  Cond. No.          </th> <td>    1.00</td>\n",
       "</tr>\n",
       "</table>"
      ],
      "text/plain": [
       "<class 'statsmodels.iolib.summary.Summary'>\n",
       "\"\"\"\n",
       "                            OLS Regression Results                            \n",
       "==============================================================================\n",
       "Dep. Variable:                      y   R-squared:                       0.996\n",
       "Model:                            OLS   Adj. R-squared:                  0.995\n",
       "Method:                 Least Squares   F-statistic:                     1714.\n",
       "Date:                Wed, 31 Jan 2018   Prob (F-statistic):           1.25e-09\n",
       "Time:                        22:53:33   Log-Likelihood:                -25.585\n",
       "No. Observations:                   8   AIC:                             53.17\n",
       "Df Residuals:                       7   BIC:                             53.25\n",
       "Df Model:                           1                                         \n",
       "Covariance Type:            nonrobust                                         \n",
       "==============================================================================\n",
       "                 coef    std err          t      P>|t|      [0.025      0.975]\n",
       "------------------------------------------------------------------------------\n",
       "x1             2.1063      0.051     41.396      0.000       1.986       2.227\n",
       "==============================================================================\n",
       "Omnibus:                        1.613   Durbin-Watson:                   0.548\n",
       "Prob(Omnibus):                  0.446   Jarque-Bera (JB):                0.793\n",
       "Skew:                           0.344   Prob(JB):                        0.673\n",
       "Kurtosis:                       1.620   Cond. No.                         1.00\n",
       "==============================================================================\n",
       "\n",
       "Warnings:\n",
       "[1] Standard Errors assume that the covariance matrix of the errors is correctly specified.\n",
       "\"\"\""
      ]
     },
     "execution_count": 20,
     "metadata": {},
     "output_type": "execute_result"
    }
   ],
   "source": [
    "model1.summary() #summary statistics of this model"
   ]
  },
  {
   "cell_type": "markdown",
   "metadata": {},
   "source": [
    "This very simple model would suggest a strong positive linear relationship between income and the number of houses sold. However, it is only a simple model, and as we show graphically the data are quite linear in form."
   ]
  },
  {
   "cell_type": "code",
   "execution_count": 21,
   "metadata": {},
   "outputs": [
    {
     "data": {
      "text/html": [
       "<iframe id=\"igraph\" scrolling=\"no\" style=\"border:none;\" seamless=\"seamless\" src=\"https://plot.ly/~dennisberens24/151.embed\" height=\"525px\" width=\"100%\"></iframe>"
      ],
      "text/plain": [
       "<plotly.tools.PlotlyDisplay object>"
      ]
     },
     "execution_count": 21,
     "metadata": {},
     "output_type": "execute_result"
    }
   ],
   "source": [
    "trace1 = go.Scatter(\n",
    "    x=x, \n",
    "    y=y, \n",
    "    name='Data',\n",
    "    mode='markers',\n",
    "    line=dict(\n",
    "        color=  ('rgb(66, 134, 244)'),\n",
    "        width= 5\n",
    "        )\n",
    "    )\n",
    "trace2 = go.Scatter(\n",
    "    x=x, \n",
    "    y=predictions, \n",
    "    #these predictions lack the intercept\n",
    "    name='Predictions', \n",
    "    line=dict(\n",
    "        color=  ('rgb(65, 244, 226)'),\n",
    "        width= 5\n",
    "        )\n",
    "    )\n",
    "data1 = [trace1, trace2]\n",
    "layout = dict(title = 'Model 2',\n",
    "              xaxis = dict(title = 'GPI'),\n",
    "              yaxis = dict(title = 'PBW'),\n",
    "              )\n",
    "graph1 = dict(data=data1, layout=layout)\n",
    "py.iplot(graph1, layout=layout)"
   ]
  },
  {
   "cell_type": "markdown",
   "metadata": {},
   "source": [
    "Therefore, it is difficult to establish whether there is a significant relation between these two variables on the basis of this analysis only."
   ]
  },
  {
   "cell_type": "markdown",
   "metadata": {},
   "source": [
    "### Model 2"
   ]
  },
  {
   "cell_type": "markdown",
   "metadata": {},
   "source": [
    "We also consider a simple model where we relate housing prices and number of houses sold. "
   ]
  },
  {
   "cell_type": "code",
   "execution_count": 22,
   "metadata": {
    "collapsed": true
   },
   "outputs": [],
   "source": [
    "#A simple model with number of houses sold and housing prices\n",
    "model2 = sm.OLS(y, z).fit()\n",
    "predictions = model2.predict(y)"
   ]
  },
  {
   "cell_type": "code",
   "execution_count": 23,
   "metadata": {},
   "outputs": [
    {
     "name": "stderr",
     "output_type": "stream",
     "text": [
      "C:\\Users\\Dennis\\Anaconda3\\lib\\site-packages\\scipy\\stats\\stats.py:1334: UserWarning:\n",
      "\n",
      "kurtosistest only valid for n>=20 ... continuing anyway, n=8\n",
      "\n"
     ]
    },
    {
     "data": {
      "text/html": [
       "<table class=\"simpletable\">\n",
       "<caption>OLS Regression Results</caption>\n",
       "<tr>\n",
       "  <th>Dep. Variable:</th>            <td>y</td>        <th>  R-squared:         </th> <td>   0.927</td>\n",
       "</tr>\n",
       "<tr>\n",
       "  <th>Model:</th>                   <td>OLS</td>       <th>  Adj. R-squared:    </th> <td>   0.916</td>\n",
       "</tr>\n",
       "<tr>\n",
       "  <th>Method:</th>             <td>Least Squares</td>  <th>  F-statistic:       </th> <td>   88.68</td>\n",
       "</tr>\n",
       "<tr>\n",
       "  <th>Date:</th>             <td>Wed, 31 Jan 2018</td> <th>  Prob (F-statistic):</th> <td>3.17e-05</td>\n",
       "</tr>\n",
       "<tr>\n",
       "  <th>Time:</th>                 <td>22:53:35</td>     <th>  Log-Likelihood:    </th> <td> -37.143</td>\n",
       "</tr>\n",
       "<tr>\n",
       "  <th>No. Observations:</th>      <td>     8</td>      <th>  AIC:               </th> <td>   76.29</td>\n",
       "</tr>\n",
       "<tr>\n",
       "  <th>Df Residuals:</th>          <td>     7</td>      <th>  BIC:               </th> <td>   76.37</td>\n",
       "</tr>\n",
       "<tr>\n",
       "  <th>Df Model:</th>              <td>     1</td>      <th>                     </th>     <td> </td>   \n",
       "</tr>\n",
       "<tr>\n",
       "  <th>Covariance Type:</th>      <td>nonrobust</td>    <th>                     </th>     <td> </td>   \n",
       "</tr>\n",
       "</table>\n",
       "<table class=\"simpletable\">\n",
       "<tr>\n",
       "   <td></td>     <th>coef</th>     <th>std err</th>      <th>t</th>      <th>P>|t|</th>  <th>[0.025</th>    <th>0.975]</th>  \n",
       "</tr>\n",
       "<tr>\n",
       "  <th>x1</th> <td>    0.0005</td> <td> 5.77e-05</td> <td>    9.417</td> <td> 0.000</td> <td>    0.000</td> <td>    0.001</td>\n",
       "</tr>\n",
       "</table>\n",
       "<table class=\"simpletable\">\n",
       "<tr>\n",
       "  <th>Omnibus:</th>       <td> 2.209</td> <th>  Durbin-Watson:     </th> <td>   0.191</td>\n",
       "</tr>\n",
       "<tr>\n",
       "  <th>Prob(Omnibus):</th> <td> 0.331</td> <th>  Jarque-Bera (JB):  </th> <td>   0.918</td>\n",
       "</tr>\n",
       "<tr>\n",
       "  <th>Skew:</th>          <td>-0.387</td> <th>  Prob(JB):          </th> <td>   0.632</td>\n",
       "</tr>\n",
       "<tr>\n",
       "  <th>Kurtosis:</th>      <td> 1.532</td> <th>  Cond. No.          </th> <td>    1.00</td>\n",
       "</tr>\n",
       "</table>"
      ],
      "text/plain": [
       "<class 'statsmodels.iolib.summary.Summary'>\n",
       "\"\"\"\n",
       "                            OLS Regression Results                            \n",
       "==============================================================================\n",
       "Dep. Variable:                      y   R-squared:                       0.927\n",
       "Model:                            OLS   Adj. R-squared:                  0.916\n",
       "Method:                 Least Squares   F-statistic:                     88.68\n",
       "Date:                Wed, 31 Jan 2018   Prob (F-statistic):           3.17e-05\n",
       "Time:                        22:53:35   Log-Likelihood:                -37.143\n",
       "No. Observations:                   8   AIC:                             76.29\n",
       "Df Residuals:                       7   BIC:                             76.37\n",
       "Df Model:                           1                                         \n",
       "Covariance Type:            nonrobust                                         \n",
       "==============================================================================\n",
       "                 coef    std err          t      P>|t|      [0.025      0.975]\n",
       "------------------------------------------------------------------------------\n",
       "x1             0.0005   5.77e-05      9.417      0.000       0.000       0.001\n",
       "==============================================================================\n",
       "Omnibus:                        2.209   Durbin-Watson:                   0.191\n",
       "Prob(Omnibus):                  0.331   Jarque-Bera (JB):                0.918\n",
       "Skew:                          -0.387   Prob(JB):                        0.632\n",
       "Kurtosis:                       1.532   Cond. No.                         1.00\n",
       "==============================================================================\n",
       "\n",
       "Warnings:\n",
       "[1] Standard Errors assume that the covariance matrix of the errors is correctly specified.\n",
       "\"\"\""
      ]
     },
     "execution_count": 23,
     "metadata": {},
     "output_type": "execute_result"
    }
   ],
   "source": [
    "model2.summary()"
   ]
  },
  {
   "cell_type": "markdown",
   "metadata": {},
   "source": [
    "Also this model results in surprisingly high levels of confidence in the results. We however have to interpret these results with a great level of caution."
   ]
  },
  {
   "cell_type": "code",
   "execution_count": 24,
   "metadata": {},
   "outputs": [
    {
     "data": {
      "text/html": [
       "<iframe id=\"igraph\" scrolling=\"no\" style=\"border:none;\" seamless=\"seamless\" src=\"https://plot.ly/~dennisberens24/153.embed\" height=\"525px\" width=\"100%\"></iframe>"
      ],
      "text/plain": [
       "<plotly.tools.PlotlyDisplay object>"
      ]
     },
     "execution_count": 24,
     "metadata": {},
     "output_type": "execute_result"
    }
   ],
   "source": [
    "trace1 = go.Scatter(\n",
    "    x=y, \n",
    "    y=z, \n",
    "    name='Data',\n",
    "    mode='markers',\n",
    "    line=dict(\n",
    "        color=  ('rgb(66, 134, 244)'),\n",
    "        width= 5\n",
    "        )\n",
    "    )\n",
    "trace2 = go.Scatter(\n",
    "    x=y, \n",
    "    y=predictions, \n",
    "    name='Predictions', \n",
    "    line=dict(\n",
    "        color=  ('rgb(65, 244, 226)'),\n",
    "        width= 5\n",
    "        )\n",
    "    )\n",
    "data1 = [trace1, trace2]\n",
    "layout = dict(title = 'Model 2',\n",
    "              xaxis = dict(title = 'PBW'),\n",
    "              yaxis = dict(title = 'AVW'),\n",
    "              )\n",
    "graph1 = dict(data=data1, layout=layout)\n",
    "py.iplot(graph1, layout=layout)"
   ]
  },
  {
   "cell_type": "markdown",
   "metadata": {},
   "source": [
    "We conclude that while there may be a relation, more research is needed in order to be able to make sound statements regarding this relation."
   ]
  },
  {
   "cell_type": "markdown",
   "metadata": {},
   "source": [
    "## Conclusion\n",
    "<a name=\"8\"></a>\n",
    "We have used tables, graphs and regressions to further investigate the possible existance of a housing bubble in the Netherlands. While we have learned much about how to analyze this data in the programs that we used, we are not able to determine whether there is a housing bubble in this short analysis.\n",
    "\n",
    "However, we can conclude that the housing market in the Netherlands gives rise to interesting questions regarding not only bubbles, but also access to the housing market and the relation with other parts of the economy.\n",
    "\n",
    "We look forward to reading more about this topic in the future, and perhaps contribute to future research ourselves."
   ]
  }
 ],
 "metadata": {
  "kernelspec": {
   "display_name": "Python 3",
   "language": "python",
   "name": "python3"
  },
  "language_info": {
   "codemirror_mode": {
    "name": "ipython",
    "version": 3
   },
   "file_extension": ".py",
   "mimetype": "text/x-python",
   "name": "python",
   "nbconvert_exporter": "python",
   "pygments_lexer": "ipython3",
   "version": "3.6.1"
  }
 },
 "nbformat": 4,
 "nbformat_minor": 2
}
